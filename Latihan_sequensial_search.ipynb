{
 "cells": [
  {
   "cell_type": "markdown",
   "metadata": {},
   "source": [
    "# Unordered search"
   ]
  },
  {
   "cell_type": "code",
   "execution_count": 83,
   "metadata": {},
   "outputs": [],
   "source": [
    "def stack():\n",
    "    s=[]\n",
    "    return(s)\n",
    "def push(s,data):\n",
    "    s.append(data)\n",
    "def pop(s):\n",
    "    data=s.pop()\n",
    "    return(data)\n",
    "def peek(s):\n",
    "    return(s[len(s)-1])\n",
    "def isEmpty(s):\n",
    "    return(s==[])\n",
    "def size (s):\n",
    "    return(len(s))"
   ]
  },
  {
   "cell_type": "code",
   "execution_count": 131,
   "metadata": {},
   "outputs": [],
   "source": [
    "def unorderedSearch(list):\n",
    "    cari = input('masukan yang mau dicari = ')\n",
    "    count = 0\n",
    "    index = stack()\n",
    "    \n",
    "    for i in range(len(list)):\n",
    "        if (str(list[i]) == cari):\n",
    "            push(index,str(i))\n",
    "            count += 1\n",
    "    \n",
    "    if (count != 0):\n",
    "        index = (', ').join(index)\n",
    "        hasil = 'yang dicari ada pada index ' + index\n",
    "        return hasil\n",
    "    else:\n",
    "        hasil = 'yang dicari tidak ada pada data'\n",
    "        return hasil\n",
    "    \n"
   ]
  },
  {
   "cell_type": "code",
   "execution_count": 132,
   "metadata": {},
   "outputs": [
    {
     "name": "stdout",
     "output_type": "stream",
     "text": [
      "masukan yang mau dicari = kamu\n",
      "yang dicari ada pada index 0, 9\n"
     ]
    }
   ],
   "source": [
    "print(str(unorderedSearch(['kamu',1,2,3,1,'aku',5,6,'aku','kamu'])))"
   ]
  }
 ],
 "metadata": {
  "kernelspec": {
   "display_name": "Python 3",
   "language": "python",
   "name": "python3"
  },
  "language_info": {
   "codemirror_mode": {
    "name": "ipython",
    "version": 3
   },
   "file_extension": ".py",
   "mimetype": "text/x-python",
   "name": "python",
   "nbconvert_exporter": "python",
   "pygments_lexer": "ipython3",
   "version": "3.7.3"
  }
 },
 "nbformat": 4,
 "nbformat_minor": 2
}
