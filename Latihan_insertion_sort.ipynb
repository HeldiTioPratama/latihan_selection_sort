{
 "cells": [
  {
   "cell_type": "markdown",
   "metadata": {},
   "source": [
    "# Ascending Awal\n"
   ]
  },
  {
   "cell_type": "code",
   "execution_count": 23,
   "metadata": {},
   "outputs": [
    {
     "name": "stdout",
     "output_type": "stream",
     "text": [
      "[1, 5, 67, 78, 34, 6]\n",
      "[1, 5, 67, 78, 34, 6]\n",
      "[1, 5, 67, 78, 34, 6]\n",
      "[1, 5, 34, 67, 78, 6]\n",
      "[1, 5, 6, 34, 67, 78]\n",
      "data sudah terurut = [1, 5, 6, 34, 67, 78]\n"
     ]
    }
   ],
   "source": [
    "a=[1,5,67,78,34,6]\n",
    "for i in range(1,len(a)):\n",
    "    key = a[i] #dimulai dari awal +1\n",
    "    j = i-1    # untuk dibandingkan dengan index sebelum key\n",
    "    while j>= 0 and key<=a[j]:   # looping sampai j = 0 atau tidak memenuhi kondisi\n",
    "        a[j+1] = a[j]    # jika key < kecil dari index sblmnya ganti isi index yg lbh besar +1 dibandingkan dgn yg dibandingkan\n",
    "        j -=1    # stop kondisi\n",
    "\n",
    "    a[j+1] = key # jika key lebih besar maka dari yg dibandingkan isi +1 yang dibandingkan dengan key\n",
    "    print(a)\n",
    "\n",
    "print('data sudah terurut =', a)"
   ]
  },
  {
   "cell_type": "markdown",
   "metadata": {},
   "source": [
    "# Descending Awal"
   ]
  },
  {
   "cell_type": "code",
   "execution_count": 24,
   "metadata": {},
   "outputs": [
    {
     "name": "stdout",
     "output_type": "stream",
     "text": [
      "[3, 1, 5, 72, 73, 2, 5]\n",
      "[5, 3, 1, 72, 73, 2, 5]\n",
      "[72, 5, 3, 1, 73, 2, 5]\n",
      "[73, 72, 5, 3, 1, 2, 5]\n",
      "[73, 72, 5, 3, 2, 1, 5]\n",
      "[73, 72, 5, 5, 3, 2, 1]\n",
      "data sudah terurut = [73, 72, 5, 5, 3, 2, 1]\n"
     ]
    }
   ],
   "source": [
    "b = [1,3,5,72,73,2,5]\n",
    "\n",
    "for i in range(1,len(b)):\n",
    "    key = b[i]\n",
    "    h = i-1\n",
    "    while h >= 0 and key >=b[h]:\n",
    "        b[h+1] = b[h]\n",
    "        h -=1\n",
    "\n",
    "    b[h+1] = key\n",
    "    print(b)\n",
    "    \n",
    "print('data sudah terurut =', b)"
   ]
  },
  {
   "cell_type": "markdown",
   "metadata": {},
   "source": [
    "# Ascending Akhir"
   ]
  },
  {
   "cell_type": "code",
   "execution_count": 25,
   "metadata": {
    "scrolled": true
   },
   "outputs": [
    {
     "name": "stdout",
     "output_type": "stream",
     "text": [
      "[21, 56, 0, 2, 87, 326]\n",
      "[21, 56, 0, 2, 87, 326]\n",
      "[21, 56, 0, 2, 87, 326]\n",
      "[21, 0, 2, 56, 87, 326]\n",
      "[0, 2, 21, 56, 87, 326]\n",
      "data sudah terurut = [0, 2, 21, 56, 87, 326]\n"
     ]
    }
   ],
   "source": [
    "c = [21,56,0,2,326,87]\n",
    "\n",
    "for i in range(len(c)-2,-1,-1):\n",
    "    key = c[i]\n",
    "    t = i +1\n",
    "    \n",
    "    while t <= len(c)-1 and key >= c[t]:\n",
    "        c[t-1] = c[t]\n",
    "        #print(t,\"==\",c)\n",
    "        t +=1\n",
    "    \n",
    "    c[t-1] = key\n",
    "    print(c)\n",
    "    \n",
    "print('data sudah terurut =', c)"
   ]
  },
  {
   "cell_type": "markdown",
   "metadata": {},
   "source": [
    "# Descending"
   ]
  },
  {
   "cell_type": "code",
   "execution_count": 26,
   "metadata": {},
   "outputs": [
    {
     "name": "stdout",
     "output_type": "stream",
     "text": [
      "[21, 34, 67, 32, 8, 2]\n",
      "[21, 34, 67, 32, 8, 2]\n",
      "[21, 34, 67, 32, 8, 2]\n",
      "[21, 67, 34, 32, 8, 2]\n",
      "[67, 34, 32, 21, 8, 2]\n",
      "data sudah terurut = [67, 34, 32, 21, 8, 2]\n"
     ]
    }
   ],
   "source": [
    "d = [21,34,67,32,8,2]\n",
    "\n",
    "for i in range(len(d)-2,-1,-1):\n",
    "    key = d[i]\n",
    "    p = i +1\n",
    "\n",
    "    while p <=len(d)-1 and key <= d[p]:\n",
    "        d[p-1] = d[p]\n",
    "        #print(p,'==',d)\n",
    "        p += 1\n",
    "        \n",
    "    d[p-1] = key\n",
    "    print(d)\n",
    "\n",
    "print('data sudah terurut =', d)"
   ]
  }
 ],
 "metadata": {
  "kernelspec": {
   "display_name": "Python 3",
   "language": "python",
   "name": "python3"
  },
  "language_info": {
   "codemirror_mode": {
    "name": "ipython",
    "version": 3
   },
   "file_extension": ".py",
   "mimetype": "text/x-python",
   "name": "python",
   "nbconvert_exporter": "python",
   "pygments_lexer": "ipython3",
   "version": "3.7.3"
  }
 },
 "nbformat": 4,
 "nbformat_minor": 2
}
